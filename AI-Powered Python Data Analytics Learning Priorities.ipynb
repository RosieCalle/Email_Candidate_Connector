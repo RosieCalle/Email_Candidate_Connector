{
 "cells": [
  {
   "cell_type": "markdown",
   "metadata": {},
   "source": [
    "# Learning Priorities: \n",
    "\n",
    "Updated On: 2024.03.13\n",
    "\n",
    "## 1) (Intelligent) (Power) Tools Setup for Working with Code \n",
    "\n",
    "## 2) Basic Python Syntax \n",
    "\n",
    "## 3) Running code (scripts) \n",
    "\t\n",
    "    Scripts are line of statements (can be short or long)\n",
    "\n",
    "## 4) Using and Defining Functions:\n",
    "\t\n",
    "\tFunctions are named containers for lines of statements\n",
    "\t\n",
    "### [ In the Age of AI LLMs: ]\n",
    "\n",
    "## 5) Strings, strings, strings \n",
    "\tbut especially f-strings (aka \"function strings\")\n",
    "\t\n",
    "## 6) REST APIs - `**RE**`presentational **`S`**tate **`T`**ransfer (**REST** API)\n",
    "\t\tWHY? ==>  90% or more of the web uses REST API (Application Programming Interface)\n",
    "\t\t\n",
    "\t\tWebservers are \"stateless\" - \n",
    "\t\t\tThey don't preserve the state of every interaction\n",
    "\t\tTo preserve \"state\" of your data, other (database) servers \n",
    "\n",
    "\t\tREST APIs primarily use REST APIs to send and receive data.  \n",
    "\t\t\n",
    "## 7) JSON data and Python Dictionaries:\n",
    "\t\n",
    "\tJSON = \"JavaScript Object Notation\" \n",
    "\t\n",
    "\tPython dictionaries and JSON objects are ALMOST the same thing. \n",
    "\t\n",
    "\t\n"
   ]
  },
  {
   "cell_type": "markdown",
   "metadata": {},
   "source": [
    "# Prompt Engineering"
   ]
  },
  {
   "cell_type": "markdown",
   "metadata": {},
   "source": [
    "# LangChain Learning"
   ]
  },
  {
   "cell_type": "markdown",
   "metadata": {},
   "source": []
  }
 ],
 "metadata": {
  "kernelspec": {
   "display_name": "core",
   "language": "python",
   "name": "python3"
  },
  "language_info": {
   "name": "python",
   "version": "3.9.15"
  }
 },
 "nbformat": 4,
 "nbformat_minor": 2
}
